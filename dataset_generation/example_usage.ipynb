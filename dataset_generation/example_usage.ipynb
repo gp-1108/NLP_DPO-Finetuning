{
 "cells": [
  {
   "cell_type": "code",
   "execution_count": 1,
   "metadata": {},
   "outputs": [],
   "source": [
    "%load_ext autoreload\n",
    "%autoreload 2"
   ]
  },
  {
   "cell_type": "code",
   "execution_count": 2,
   "metadata": {},
   "outputs": [],
   "source": [
    "from utils import TextExtractor, DialogueGenerator, DPOGenerator\n",
    "import tqdm\n",
    "import os\n",
    "import json\n",
    "from matplotlib import pyplot as plt \n",
    "import numpy as np"
   ]
  },
  {
   "cell_type": "code",
   "execution_count": 3,
   "metadata": {},
   "outputs": [],
   "source": [
    "# Defining the paths\n",
    "raw_pdfs = \"data/sample_data\"\n",
    "extracted_texts = \"data/extracted_texts\"\n",
    "dialogues = \"data/dialogues\"\n",
    "dpo_dialogues = \"data/dpo_dialogues\""
   ]
  },
  {
   "cell_type": "code",
   "execution_count": 9,
   "metadata": {},
   "outputs": [
    {
     "name": "stderr",
     "output_type": "stream",
     "text": [
      "Extracting text from PDFs:   0%|          | 0/1 [00:00<?, ?it/s]"
     ]
    },
    {
     "name": "stderr",
     "output_type": "stream",
     "text": [
      "Extracting text from PDFs: 100%|██████████| 1/1 [00:00<00:00,  2.69it/s]\n"
     ]
    }
   ],
   "source": [
    "# First you will need to extract the text from the pdfs, usually this is done in bulk once\n",
    "# This is done using the TextExtractor class\n",
    "extractor = TextExtractor(raw_pdfs, extracted_texts)\n",
    "extractor.extract_texts()"
   ]
  },
  {
   "cell_type": "code",
   "execution_count": 10,
   "metadata": {},
   "outputs": [
    {
     "name": "stderr",
     "output_type": "stream",
     "text": [
      "Processing JSON files: 100%|██████████| 1/1 [00:39<00:00, 39.95s/it]\n"
     ]
    }
   ],
   "source": [
    "# Now we can generate the dialogues\n",
    "dialogue_generator = DialogueGenerator(\n",
    "    extracted_texts, \"./prompts/dialogue_prompt.txt\", dialogues\n",
    ")\n",
    "dialogue_generator.generate_dialogues()"
   ]
  },
  {
   "cell_type": "code",
   "execution_count": 11,
   "metadata": {},
   "outputs": [
    {
     "name": "stderr",
     "output_type": "stream",
     "text": [
      "Generating dialogue trees:   0%|          | 0/1 [00:00<?, ?it/s]"
     ]
    },
    {
     "name": "stderr",
     "output_type": "stream",
     "text": [
      "Generating dialogue trees: 100%|██████████| 1/1 [03:01<00:00, 181.74s/it]\n"
     ]
    }
   ],
   "source": [
    "# Now we can generate the DPO dialogues\n",
    "dpo_generator = DPOGenerator(\n",
    "    dialogues, \"./prompts/dpo_samples_prompt.txt\", dpo_dialogues\n",
    ")\n",
    "dpo_generator.generate_dialogue_trees()"
   ]
  },
  {
   "cell_type": "code",
   "execution_count": null,
   "metadata": {},
   "outputs": [],
   "source": []
  }
 ],
 "metadata": {
  "kernelspec": {
   "display_name": "Python 3",
   "language": "python",
   "name": "python3"
  },
  "language_info": {
   "codemirror_mode": {
    "name": "ipython",
    "version": 3
   },
   "file_extension": ".py",
   "mimetype": "text/x-python",
   "name": "python",
   "nbconvert_exporter": "python",
   "pygments_lexer": "ipython3",
   "version": "3.12.6"
  }
 },
 "nbformat": 4,
 "nbformat_minor": 2
}
